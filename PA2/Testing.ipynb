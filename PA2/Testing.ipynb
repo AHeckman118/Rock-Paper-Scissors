{
 "cells": [
  {
   "cell_type": "markdown",
   "metadata": {},
   "source": [
    "# Testing for various functions for template matching"
   ]
  },
  {
   "cell_type": "code",
   "execution_count": 302,
   "metadata": {
    "collapsed": true
   },
   "outputs": [],
   "source": [
    "import cv2\n",
    "import numpy as np\n",
    "from matplotlib import pyplot as plt\n",
    "    \n",
    "def feature_detect(img, template):\n",
    "    #img = cv2.imread(image,0)\n",
    "    temp = cv2.imread(template,0)\n",
    "    orb = cv2.ORB_create()\n",
    "    \n",
    "    ikp, des1 = orb.detectAndCompute(img,None)\n",
    "    tkp, des2 = orb.detectAndCompute(temp,None)\n",
    "    \n",
    "    bf = cv2.BFMatcher(cv2.NORM_HAMMING, crossCheck=True)\n",
    "    matches = bf.match(des1,des2)\n",
    "    avg_distance = 0\n",
    "    for i in range(len(matches)):\n",
    "        avg_distance += matches[i].distance\n",
    "    avg_distance /= len(matches)\n",
    "    return avg_distance\n",
    "    \n",
    "def play_rps(img, mode):\n",
    "    image = cv2.imread(img,0)\n",
    "    rock = feature_detect(image, 'rock_template.jpg')\n",
    "    paper = feature_detect(image, 'paper_template.jpg')\n",
    "    scissors = feature_detect(image, 'scissors_template.jpg')\n",
    "    rps = [rock,paper,scissors]\n",
    "    if mode == 'win':\n",
    "        if min(rps) == rock:\n",
    "            print('Paper!')\n",
    "            return\n",
    "        elif min(rps) == paper:\n",
    "            print('Scissors!')\n",
    "            return\n",
    "        else:\n",
    "            print('Rock!')\n",
    "            return\n",
    "    elif mode == 'draw':\n",
    "        if min(rps) == rock:\n",
    "            print('Rock!')\n",
    "            return\n",
    "        elif min(rps) == paper:\n",
    "            print('Paper!')\n",
    "            return\n",
    "        else:\n",
    "            print('Scissors!')\n",
    "            return\n",
    "    else:\n",
    "        if min(rps) == rock:\n",
    "            print('Scissors!')\n",
    "            return\n",
    "        elif min(rps) == paper:\n",
    "            print('Rock!')\n",
    "            return\n",
    "        else:\n",
    "            print('Paper!')\n",
    "            return\n",
    "\n",
    "def make_template_white():\n",
    "    rock = cv2.imread(\"rock_template.jpg\",0)\n",
    "    paper = cv2.imread(\"paper_template.jpg\",0)\n",
    "    scissors = cv2.imread(\"scissors_template.jpg\",0)\n",
    "    ret,thresh1 = cv2.threshold(rock,155,255,cv2.THRESH_BINARY)\n",
    "    ret,thresh2 = cv2.threshold(paper,250,255,cv2.THRESH_BINARY_INV)\n",
    "    ret,thresh3 = cv2.threshold(scissors,250,255,cv2.THRESH_BINARY_INV)\n",
    "    titles = ['rock','paper','scissors']\n",
    "    images = [thresh1,thresh2,thresh3]\n",
    "    for i in range(3):\n",
    "        plt.subplot(2,3,i+1),plt.imshow(images[i],'gray')\n",
    "        plt.title(titles[i])\n",
    "    \n",
    "    plt.show()\n",
    "    return [thresh1,thresh2,thresh3]"
   ]
  },
  {
   "cell_type": "code",
   "execution_count": 301,
   "metadata": {},
   "outputs": [
    {
     "name": "stdout",
     "output_type": "stream",
     "text": [
      "Scissors!\n"
     ]
    },
    {
     "data": {
      "image/png": "[encoded data removed]",
      "text/plain": [
       "<matplotlib.figure.Figure at 0x10d66da58>"
      ]
     },
     "metadata": {},
     "output_type": "display_data"
    }
   ],
   "source": [
    "# feature_detect('scissors_test.jpg','rock_template.jpg')\n",
    "# feature_detect('scissors_test.jpg','paper_template.jpg')\n",
    "# feature_detect('scissors_test.jpg','scissors_template.jpg')\n",
    "play_rps('scissors_test3.jpg','win')\n",
    "make_template_white()"
   ]
  },
  {
   "cell_type": "code",
   "execution_count": null,
   "metadata": {
    "collapsed": true
   },
   "outputs": [],
   "source": []
  }
 ],
 "metadata": {
  "kernelspec": {
   "display_name": "Python 3",
   "language": "python",
   "name": "python3"
  },
  "language_info": {
   "codemirror_mode": {
    "name": "ipython",
    "version": 3
   },
   "file_extension": ".py",
   "mimetype": "text/x-python",
   "name": "python",
   "nbconvert_exporter": "python",
   "pygments_lexer": "ipython3",
   "version": "3.6.3"
  }
 },
 "nbformat": 4,
 "nbformat_minor": 2
}
